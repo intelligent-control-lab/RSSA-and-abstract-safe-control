{
 "cells": [
  {
   "cell_type": "code",
   "execution_count": 1,
   "metadata": {},
   "outputs": [],
   "source": [
    "import numpy as np\n",
    "import matplotlib.pyplot as plt\n",
    "from matplotlib.patches import Rectangle\n",
    "import gym\n",
    "from julia.api import Julia\n",
    "jl = Julia(compiled_modules=False)\n",
    "from julia import LazySets"
   ]
  },
  {
   "cell_type": "code",
   "execution_count": 2,
   "metadata": {},
   "outputs": [],
   "source": [
    "import safety_index\n",
    "from safety_index import *\n",
    "import gym_dynamics\n",
    "import importlib"
   ]
  },
  {
   "cell_type": "code",
   "execution_count": 5,
   "metadata": {},
   "outputs": [
    {
     "name": "stdout",
     "output_type": "stream",
     "text": [
      "LgP_hull\n",
      "<PyCall.jlwrap LazySets.VPolytope{Float64, Vector{Float64}}([[0.4124139121444885, 0.0], [4.536553160954908, 0.0], [4.536553160954908, 1.2736553036569612e-7], [0.4124139121444885, 1.2736553036569612e-7]])>\n",
      "False\n"
     ]
    },
    {
     "ename": "AttributeError",
     "evalue": "'PyCall.jlwrap' object has no attribute 'constraints'",
     "output_type": "error",
     "traceback": [
      "\u001b[0;31m---------------------------------------------------------------------------\u001b[0m",
      "\u001b[0;31mAttributeError\u001b[0m                            Traceback (most recent call last)",
      "\u001b[1;32m/Users/wth/dev/robust-safe-set/src/main.ipynb Cell 3'\u001b[0m in \u001b[0;36m<cell line: 6>\u001b[0;34m()\u001b[0m\n\u001b[1;32m      <a href='vscode-notebook-cell:/Users/wth/dev/robust-safe-set/src/main.ipynb#ch0000002?line=3'>4</a>\u001b[0m get_ipython()\u001b[39m.\u001b[39mrun_line_magic(\u001b[39m'\u001b[39m\u001b[39mmatplotlib\u001b[39m\u001b[39m'\u001b[39m, \u001b[39m'\u001b[39m\u001b[39mtk\u001b[39m\u001b[39m'\u001b[39m)\n\u001b[1;32m      <a href='vscode-notebook-cell:/Users/wth/dev/robust-safe-set/src/main.ipynb#ch0000002?line=4'>5</a>\u001b[0m \u001b[39m# evaluate(uncertainty=10, use_rssa=False, render=True)\u001b[39;00m\n\u001b[0;32m----> <a href='vscode-notebook-cell:/Users/wth/dev/robust-safe-set/src/main.ipynb#ch0000002?line=5'>6</a>\u001b[0m evaluate(uncertainty\u001b[39m=\u001b[39;49m\u001b[39m10\u001b[39;49m, use_rssa\u001b[39m=\u001b[39;49m\u001b[39mTrue\u001b[39;49;00m, render\u001b[39m=\u001b[39;49m\u001b[39mTrue\u001b[39;49;00m)\n",
      "File \u001b[0;32m~/dev/robust-safe-set/src/safety_index.py:444\u001b[0m, in \u001b[0;36mevaluate\u001b[0;34m(uncertainty, use_rssa, render)\u001b[0m\n\u001b[1;32m    <a href='file:///Users/wth/dev/robust-safe-set/src/safety_index.py?line=440'>441</a>\u001b[0m u_ref \u001b[39m=\u001b[39m env\u001b[39m.\u001b[39mcompute_u_ref()\n\u001b[1;32m    <a href='file:///Users/wth/dev/robust-safe-set/src/safety_index.py?line=441'>442</a>\u001b[0m \u001b[39m# print(\"env.state\")\u001b[39;00m\n\u001b[1;32m    <a href='file:///Users/wth/dev/robust-safe-set/src/safety_index.py?line=442'>443</a>\u001b[0m \u001b[39m# print(env.state)\u001b[39;00m\n\u001b[0;32m--> <a href='file:///Users/wth/dev/robust-safe-set/src/safety_index.py?line=443'>444</a>\u001b[0m u \u001b[39m=\u001b[39m ssa\u001b[39m.\u001b[39;49msafe_control(state, info[\u001b[39m\"\u001b[39;49m\u001b[39mobs_state\u001b[39;49m\u001b[39m\"\u001b[39;49m], u_ref)\n\u001b[1;32m    <a href='file:///Users/wth/dev/robust-safe-set/src/safety_index.py?line=444'>445</a>\u001b[0m \u001b[39mprint\u001b[39m(\u001b[39m\"\u001b[39m\u001b[39mu\u001b[39m\u001b[39m\"\u001b[39m)\n\u001b[1;32m    <a href='file:///Users/wth/dev/robust-safe-set/src/safety_index.py?line=445'>446</a>\u001b[0m \u001b[39mprint\u001b[39m(u)\n",
      "File \u001b[0;32m~/dev/robust-safe-set/src/safety_index.py:348\u001b[0m, in \u001b[0;36mRSSA.safe_control\u001b[0;34m(self, x, o, uref)\u001b[0m\n\u001b[1;32m    <a href='file:///Users/wth/dev/robust-safe-set/src/safety_index.py?line=339'>340</a>\u001b[0m n \u001b[39m=\u001b[39m \u001b[39mlen\u001b[39m(uref)\n\u001b[1;32m    <a href='file:///Users/wth/dev/robust-safe-set/src/safety_index.py?line=341'>342</a>\u001b[0m \u001b[39m# safety constraints: A * u < b\u001b[39;00m\n\u001b[1;32m    <a href='file:///Users/wth/dev/robust-safe-set/src/safety_index.py?line=342'>343</a>\u001b[0m \u001b[39m# First part: LgP_i * u < b,  an overapproximation of U_c\u001b[39;00m\n\u001b[1;32m    <a href='file:///Users/wth/dev/robust-safe-set/src/safety_index.py?line=343'>344</a>\u001b[0m \u001b[39m# Second part: u < u_lim,  control limit\u001b[39;00m\n\u001b[1;32m    <a href='file:///Users/wth/dev/robust-safe-set/src/safety_index.py?line=344'>345</a>\u001b[0m \u001b[39m# Third part: lambda > 0,  the slack variable must be positive\u001b[39;00m\n\u001b[1;32m    <a href='file:///Users/wth/dev/robust-safe-set/src/safety_index.py?line=345'>346</a>\u001b[0m \u001b[39m# Abs = [self.generate_safety_con(x, o) for o in self.env.obstacles if self.phi(x, o) > 0]\u001b[39;00m\n\u001b[1;32m    <a href='file:///Users/wth/dev/robust-safe-set/src/safety_index.py?line=346'>347</a>\u001b[0m \u001b[39m# Abs = Abs + [self.generate_safety_con(x, o) for o in self.env.wall_obs if self.phi(x, o) > 0]\u001b[39;00m\n\u001b[0;32m--> <a href='file:///Users/wth/dev/robust-safe-set/src/safety_index.py?line=347'>348</a>\u001b[0m Abs \u001b[39m=\u001b[39m [\u001b[39mself\u001b[39m\u001b[39m.\u001b[39mgenerate_safety_con(x, o) \u001b[39mfor\u001b[39;00m o \u001b[39min\u001b[39;00m \u001b[39mself\u001b[39m\u001b[39m.\u001b[39menv\u001b[39m.\u001b[39mobstacles]\n\u001b[1;32m    <a href='file:///Users/wth/dev/robust-safe-set/src/safety_index.py?line=348'>349</a>\u001b[0m Abs \u001b[39m=\u001b[39m Abs \u001b[39m+\u001b[39m [\u001b[39mself\u001b[39m\u001b[39m.\u001b[39mgenerate_safety_con(x, o) \u001b[39mfor\u001b[39;00m o \u001b[39min\u001b[39;00m \u001b[39mself\u001b[39m\u001b[39m.\u001b[39menv\u001b[39m.\u001b[39mwall_obs]\n\u001b[1;32m    <a href='file:///Users/wth/dev/robust-safe-set/src/safety_index.py?line=349'>350</a>\u001b[0m A_LgPi \u001b[39m=\u001b[39m np\u001b[39m.\u001b[39mvstack([Ab[\u001b[39m0\u001b[39m] \u001b[39mfor\u001b[39;00m Ab \u001b[39min\u001b[39;00m Abs]) \u001b[39mif\u001b[39;00m \u001b[39mlen\u001b[39m(Abs) \u001b[39m>\u001b[39m \u001b[39m0\u001b[39m \u001b[39melse\u001b[39;00m np\u001b[39m.\u001b[39mzeros((\u001b[39m1\u001b[39m,n)) \u001b[39m# LgP_i * u < b,  the set \\hat U_c\u001b[39;00m\n",
      "File \u001b[0;32m~/dev/robust-safe-set/src/safety_index.py:348\u001b[0m, in \u001b[0;36m<listcomp>\u001b[0;34m(.0)\u001b[0m\n\u001b[1;32m    <a href='file:///Users/wth/dev/robust-safe-set/src/safety_index.py?line=339'>340</a>\u001b[0m n \u001b[39m=\u001b[39m \u001b[39mlen\u001b[39m(uref)\n\u001b[1;32m    <a href='file:///Users/wth/dev/robust-safe-set/src/safety_index.py?line=341'>342</a>\u001b[0m \u001b[39m# safety constraints: A * u < b\u001b[39;00m\n\u001b[1;32m    <a href='file:///Users/wth/dev/robust-safe-set/src/safety_index.py?line=342'>343</a>\u001b[0m \u001b[39m# First part: LgP_i * u < b,  an overapproximation of U_c\u001b[39;00m\n\u001b[1;32m    <a href='file:///Users/wth/dev/robust-safe-set/src/safety_index.py?line=343'>344</a>\u001b[0m \u001b[39m# Second part: u < u_lim,  control limit\u001b[39;00m\n\u001b[1;32m    <a href='file:///Users/wth/dev/robust-safe-set/src/safety_index.py?line=344'>345</a>\u001b[0m \u001b[39m# Third part: lambda > 0,  the slack variable must be positive\u001b[39;00m\n\u001b[1;32m    <a href='file:///Users/wth/dev/robust-safe-set/src/safety_index.py?line=345'>346</a>\u001b[0m \u001b[39m# Abs = [self.generate_safety_con(x, o) for o in self.env.obstacles if self.phi(x, o) > 0]\u001b[39;00m\n\u001b[1;32m    <a href='file:///Users/wth/dev/robust-safe-set/src/safety_index.py?line=346'>347</a>\u001b[0m \u001b[39m# Abs = Abs + [self.generate_safety_con(x, o) for o in self.env.wall_obs if self.phi(x, o) > 0]\u001b[39;00m\n\u001b[0;32m--> <a href='file:///Users/wth/dev/robust-safe-set/src/safety_index.py?line=347'>348</a>\u001b[0m Abs \u001b[39m=\u001b[39m [\u001b[39mself\u001b[39;49m\u001b[39m.\u001b[39;49mgenerate_safety_con(x, o) \u001b[39mfor\u001b[39;00m o \u001b[39min\u001b[39;00m \u001b[39mself\u001b[39m\u001b[39m.\u001b[39menv\u001b[39m.\u001b[39mobstacles]\n\u001b[1;32m    <a href='file:///Users/wth/dev/robust-safe-set/src/safety_index.py?line=348'>349</a>\u001b[0m Abs \u001b[39m=\u001b[39m Abs \u001b[39m+\u001b[39m [\u001b[39mself\u001b[39m\u001b[39m.\u001b[39mgenerate_safety_con(x, o) \u001b[39mfor\u001b[39;00m o \u001b[39min\u001b[39;00m \u001b[39mself\u001b[39m\u001b[39m.\u001b[39menv\u001b[39m.\u001b[39mwall_obs]\n\u001b[1;32m    <a href='file:///Users/wth/dev/robust-safe-set/src/safety_index.py?line=349'>350</a>\u001b[0m A_LgPi \u001b[39m=\u001b[39m np\u001b[39m.\u001b[39mvstack([Ab[\u001b[39m0\u001b[39m] \u001b[39mfor\u001b[39;00m Ab \u001b[39min\u001b[39;00m Abs]) \u001b[39mif\u001b[39;00m \u001b[39mlen\u001b[39m(Abs) \u001b[39m>\u001b[39m \u001b[39m0\u001b[39m \u001b[39melse\u001b[39;00m np\u001b[39m.\u001b[39mzeros((\u001b[39m1\u001b[39m,n)) \u001b[39m# LgP_i * u < b,  the set \\hat U_c\u001b[39;00m\n",
      "File \u001b[0;32m~/dev/robust-safe-set/src/safety_index.py:320\u001b[0m, in \u001b[0;36mRSSA.generate_safety_con\u001b[0;34m(self, x, o)\u001b[0m\n\u001b[1;32m    <a href='file:///Users/wth/dev/robust-safe-set/src/safety_index.py?line=317'>318</a>\u001b[0m \u001b[39mprint\u001b[39m(LgP_hull)\n\u001b[1;32m    <a href='file:///Users/wth/dev/robust-safe-set/src/safety_index.py?line=318'>319</a>\u001b[0m \u001b[39mprint\u001b[39m(LazySets\u001b[39m.\u001b[39misempty(LgP_hull))\n\u001b[0;32m--> <a href='file:///Users/wth/dev/robust-safe-set/src/safety_index.py?line=319'>320</a>\u001b[0m \u001b[39mprint\u001b[39m(LgP_hull\u001b[39m.\u001b[39;49mconstraints)\n\u001b[1;32m    <a href='file:///Users/wth/dev/robust-safe-set/src/safety_index.py?line=320'>321</a>\u001b[0m A_LgP_hull, b_LgP_hull \u001b[39m=\u001b[39m LazySets\u001b[39m.\u001b[39mtosimplehrep(LgP_hull)\n\u001b[1;32m    <a href='file:///Users/wth/dev/robust-safe-set/src/safety_index.py?line=321'>322</a>\u001b[0m \u001b[39m# print(\"A_LgP_hull\")\u001b[39;00m\n\u001b[1;32m    <a href='file:///Users/wth/dev/robust-safe-set/src/safety_index.py?line=322'>323</a>\u001b[0m \u001b[39m# print(A_LgP_hull)\u001b[39;00m\n\u001b[1;32m    <a href='file:///Users/wth/dev/robust-safe-set/src/safety_index.py?line=323'>324</a>\u001b[0m \u001b[39m# print(\"b_LgP_hull\")\u001b[39;00m\n\u001b[1;32m    <a href='file:///Users/wth/dev/robust-safe-set/src/safety_index.py?line=324'>325</a>\u001b[0m \u001b[39m# print(b_LgP_hull)\u001b[39;00m\n",
      "\u001b[0;31mAttributeError\u001b[0m: 'PyCall.jlwrap' object has no attribute 'constraints'"
     ]
    }
   ],
   "source": [
    "# importlib.reload(gym_dynamics)\n",
    "importlib.reload(safety_index)\n",
    "from safety_index import *\n",
    "%matplotlib tk\n",
    "# evaluate(uncertainty=10, use_rssa=False, render=True)\n",
    "evaluate(uncertainty=10, use_rssa=True, render=True)"
   ]
  },
  {
   "cell_type": "code",
   "execution_count": null,
   "metadata": {},
   "outputs": [
    {
     "name": "stdout",
     "output_type": "stream",
     "text": [
      "uncertainty =  1\n"
     ]
    },
    {
     "name": "stderr",
     "output_type": "stream",
     "text": [
      "100%|██████████| 10000/10000 [01:38<00:00, 101.32it/s]\n"
     ]
    },
    {
     "name": "stdout",
     "output_type": "stream",
     "text": [
      "collision count: 138\n",
      "uncertainty =  2\n"
     ]
    },
    {
     "name": "stderr",
     "output_type": "stream",
     "text": [
      "100%|██████████| 10000/10000 [02:42<00:00, 61.61it/s]"
     ]
    },
    {
     "name": "stdout",
     "output_type": "stream",
     "text": [
      "collision count: 131\n"
     ]
    },
    {
     "name": "stderr",
     "output_type": "stream",
     "text": [
      "\n"
     ]
    }
   ],
   "source": [
    "for uncertainty in np.arange(1,3,1):\n",
    "    print(\"uncertainty = \", uncertainty)\n",
    "    evaluate(uncertainty, use_rssa=False)"
   ]
  },
  {
   "cell_type": "code",
   "execution_count": 16,
   "metadata": {},
   "outputs": [
    {
     "name": "stdout",
     "output_type": "stream",
     "text": [
      "uncertainty =  1\n"
     ]
    },
    {
     "name": "stderr",
     "output_type": "stream",
     "text": [
      "100%|██████████| 10000/10000 [09:50<00:00, 16.93it/s]\n"
     ]
    },
    {
     "name": "stdout",
     "output_type": "stream",
     "text": [
      "collision count: 110\n",
      "uncertainty =  2\n"
     ]
    },
    {
     "name": "stderr",
     "output_type": "stream",
     "text": [
      " 50%|████▉     | 4967/10000 [06:02<06:07, 13.70it/s]\n"
     ]
    },
    {
     "name": "stdout",
     "output_type": "stream",
     "text": [
      "Unexpected exception formatting exception. Falling back to standard exception\n"
     ]
    },
    {
     "name": "stderr",
     "output_type": "stream",
     "text": [
      "Traceback (most recent call last):\n",
      "  File \"/Users/wth/miniconda3/envs/CAT/lib/python3.8/site-packages/IPython/core/interactiveshell.py\", line 3369, in run_code\n",
      "    exec(code_obj, self.user_global_ns, self.user_ns)\n",
      "  File \"/var/folders/_4/xr2bhw0n007_3fkx125b5npr0000gn/T/ipykernel_77017/3491725512.py\", line 3, in <cell line: 1>\n",
      "    evaluate(uncertainty, use_rssa=True)\n",
      "  File \"/Users/wth/dev/robust-safe-set/src/safety_index.py\", line 596, in evaluate\n",
      "    u = ssa.safe_control(state, info[\"obs_state\"], u_ref)\n",
      "  File \"/Users/wth/dev/robust-safe-set/src/safety_index.py\", line 345, in safe_control\n",
      "    Abs = Abs + [self.generate_safety_con(x, o) for o in self.env.wall_obs if self.phi(x, o) > 0]\n",
      "  File \"/Users/wth/dev/robust-safe-set/src/safety_index.py\", line 345, in <listcomp>\n",
      "    Abs = Abs + [self.generate_safety_con(x, o) for o in self.env.wall_obs if self.phi(x, o) > 0]\n",
      "  File \"/Users/wth/dev/robust-safe-set/src/safety_index.py\", line 301, in generate_safety_con\n",
      "  File \"/Users/wth/dev/robust-safe-set/src/safety_index.py\", line 276, in grad_phi\n",
      "AssertionError\n",
      "\n",
      "During handling of the above exception, another exception occurred:\n",
      "\n",
      "Traceback (most recent call last):\n",
      "  File \"/Users/wth/miniconda3/envs/CAT/lib/python3.8/site-packages/IPython/core/interactiveshell.py\", line 1982, in showtraceback\n",
      "    stb = self.InteractiveTB.structured_traceback(\n",
      "  File \"/Users/wth/miniconda3/envs/CAT/lib/python3.8/site-packages/IPython/core/ultratb.py\", line 1118, in structured_traceback\n",
      "    return FormattedTB.structured_traceback(\n",
      "  File \"/Users/wth/miniconda3/envs/CAT/lib/python3.8/site-packages/IPython/core/ultratb.py\", line 1012, in structured_traceback\n",
      "    return VerboseTB.structured_traceback(\n",
      "  File \"/Users/wth/miniconda3/envs/CAT/lib/python3.8/site-packages/IPython/core/ultratb.py\", line 865, in structured_traceback\n",
      "    formatted_exception = self.format_exception_as_a_whole(etype, evalue, etb, number_of_lines_of_context,\n",
      "  File \"/Users/wth/miniconda3/envs/CAT/lib/python3.8/site-packages/IPython/core/ultratb.py\", line 818, in format_exception_as_a_whole\n",
      "    frames.append(self.format_record(r))\n",
      "  File \"/Users/wth/miniconda3/envs/CAT/lib/python3.8/site-packages/IPython/core/ultratb.py\", line 736, in format_record\n",
      "    result += ''.join(_format_traceback_lines(frame_info.lines, Colors, self.has_colors, lvals))\n",
      "  File \"/Users/wth/miniconda3/envs/CAT/lib/python3.8/site-packages/stack_data/utils.py\", line 145, in cached_property_wrapper\n",
      "    value = obj.__dict__[self.func.__name__] = self.func(obj)\n",
      "  File \"/Users/wth/miniconda3/envs/CAT/lib/python3.8/site-packages/stack_data/core.py\", line 698, in lines\n",
      "    pieces = self.included_pieces\n",
      "  File \"/Users/wth/miniconda3/envs/CAT/lib/python3.8/site-packages/stack_data/utils.py\", line 145, in cached_property_wrapper\n",
      "    value = obj.__dict__[self.func.__name__] = self.func(obj)\n",
      "  File \"/Users/wth/miniconda3/envs/CAT/lib/python3.8/site-packages/stack_data/core.py\", line 649, in included_pieces\n",
      "    pos = scope_pieces.index(self.executing_piece)\n",
      "  File \"/Users/wth/miniconda3/envs/CAT/lib/python3.8/site-packages/stack_data/utils.py\", line 145, in cached_property_wrapper\n",
      "    value = obj.__dict__[self.func.__name__] = self.func(obj)\n",
      "  File \"/Users/wth/miniconda3/envs/CAT/lib/python3.8/site-packages/stack_data/core.py\", line 628, in executing_piece\n",
      "    return only(\n",
      "  File \"/Users/wth/miniconda3/envs/CAT/lib/python3.8/site-packages/executing/executing.py\", line 164, in only\n",
      "    raise NotOneValueFound('Expected one value, found 0')\n",
      "executing.executing.NotOneValueFound: Expected one value, found 0\n"
     ]
    }
   ],
   "source": [
    "for uncertainty in np.arange(1,3,1):\n",
    "    print(\"uncertainty = \", uncertainty)\n",
    "    evaluate(uncertainty, use_rssa=True)"
   ]
  },
  {
   "cell_type": "code",
   "execution_count": null,
   "metadata": {},
   "outputs": [],
   "source": []
  }
 ],
 "metadata": {
  "interpreter": {
   "hash": "31f2aee4e71d21fbe5cf8b01ff0e069b9275f58929596ceb00d14d90e3e16cd6"
  },
  "kernelspec": {
   "display_name": "Python 3.8.9 64-bit",
   "language": "python",
   "name": "python3"
  },
  "language_info": {
   "codemirror_mode": {
    "name": "ipython",
    "version": 3
   },
   "file_extension": ".py",
   "mimetype": "text/x-python",
   "name": "python",
   "nbconvert_exporter": "python",
   "pygments_lexer": "ipython3",
   "version": "3.7.11"
  },
  "orig_nbformat": 4
 },
 "nbformat": 4,
 "nbformat_minor": 2
}
