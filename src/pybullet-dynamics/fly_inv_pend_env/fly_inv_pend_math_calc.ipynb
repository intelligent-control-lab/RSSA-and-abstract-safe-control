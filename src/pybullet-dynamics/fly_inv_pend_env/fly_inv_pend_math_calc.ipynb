{
 "cells": [
  {
   "cell_type": "code",
   "execution_count": 1,
   "metadata": {},
   "outputs": [],
   "source": [
    "from sympy import *"
   ]
  },
  {
   "cell_type": "code",
   "execution_count": 2,
   "metadata": {},
   "outputs": [],
   "source": [
    "phi = symbols('\\\\varphi')\n",
    "theta = symbols('\\\\theta')\n",
    "dot_phi = symbols('\\dot{\\\\varphi}')\n",
    "dot_theta = symbols('\\dot{\\\\theta}')\n",
    "\n",
    "delta = acos(cos(phi) * cos(theta))\n",
    "dot_delta = (sin(phi) * cos(theta) * dot_phi + cos(phi) * sin(theta) * dot_theta) / sin(delta)"
   ]
  },
  {
   "cell_type": "code",
   "execution_count": 3,
   "metadata": {},
   "outputs": [
    {
     "data": {
      "text/latex": [
       "$\\displaystyle \\frac{\\left(- \\dot{\\theta} \\sin{\\left(\\varphi \\right)} + \\dot{\\varphi} \\sin{\\left(\\theta \\right)} \\cos{\\left(\\theta \\right)} \\cos{\\left(\\varphi \\right)}\\right) \\sin{\\left(\\theta \\right)}}{\\left(- \\cos^{2}{\\left(\\theta \\right)} \\cos^{2}{\\left(\\varphi \\right)} + 1\\right)^{\\frac{3}{2}}}$"
      ],
      "text/plain": [
       "(-\\dot{\\theta}*sin(\\varphi) + \\dot{\\varphi}*sin(\\theta)*cos(\\theta)*cos(\\varphi))*sin(\\theta)/(-cos(\\theta)**2*cos(\\varphi)**2 + 1)**(3/2)"
      ]
     },
     "execution_count": 3,
     "metadata": {},
     "output_type": "execute_result"
    }
   ],
   "source": [
    "p_dot_delta_p_phi = diff(dot_delta, phi)\n",
    "simplify(p_dot_delta_p_phi)"
   ]
  },
  {
   "cell_type": "code",
   "execution_count": 4,
   "metadata": {},
   "outputs": [
    {
     "data": {
      "text/latex": [
       "$\\displaystyle \\frac{\\left(\\dot{\\theta} \\sin{\\left(\\varphi \\right)} \\cos{\\left(\\theta \\right)} \\cos{\\left(\\varphi \\right)} - \\dot{\\varphi} \\sin{\\left(\\theta \\right)}\\right) \\sin{\\left(\\varphi \\right)}}{\\left(- \\cos^{2}{\\left(\\theta \\right)} \\cos^{2}{\\left(\\varphi \\right)} + 1\\right)^{\\frac{3}{2}}}$"
      ],
      "text/plain": [
       "(\\dot{\\theta}*sin(\\varphi)*cos(\\theta)*cos(\\varphi) - \\dot{\\varphi}*sin(\\theta))*sin(\\varphi)/(-cos(\\theta)**2*cos(\\varphi)**2 + 1)**(3/2)"
      ]
     },
     "execution_count": 4,
     "metadata": {},
     "output_type": "execute_result"
    }
   ],
   "source": [
    "p_dot_delta_p_theta = diff(dot_delta, theta)\n",
    "simplify(p_dot_delta_p_theta)"
   ]
  },
  {
   "cell_type": "code",
   "execution_count": 5,
   "metadata": {},
   "outputs": [
    {
     "data": {
      "text/latex": [
       "$\\displaystyle \\frac{\\sin{\\left(\\varphi \\right)} \\cos{\\left(\\theta \\right)}}{\\sqrt{- \\cos^{2}{\\left(\\theta \\right)} \\cos^{2}{\\left(\\varphi \\right)} + 1}}$"
      ],
      "text/plain": [
       "sin(\\varphi)*cos(\\theta)/sqrt(-cos(\\theta)**2*cos(\\varphi)**2 + 1)"
      ]
     },
     "execution_count": 5,
     "metadata": {},
     "output_type": "execute_result"
    }
   ],
   "source": [
    "p_dot_delta_p_dot_phi = diff(dot_delta, dot_phi)\n",
    "simplify(p_dot_delta_p_dot_phi)"
   ]
  },
  {
   "cell_type": "code",
   "execution_count": 6,
   "metadata": {},
   "outputs": [
    {
     "data": {
      "text/latex": [
       "$\\displaystyle \\frac{\\sin{\\left(\\theta \\right)} \\cos{\\left(\\varphi \\right)}}{\\sqrt{- \\cos^{2}{\\left(\\theta \\right)} \\cos^{2}{\\left(\\varphi \\right)} + 1}}$"
      ],
      "text/plain": [
       "sin(\\theta)*cos(\\varphi)/sqrt(-cos(\\theta)**2*cos(\\varphi)**2 + 1)"
      ]
     },
     "execution_count": 6,
     "metadata": {},
     "output_type": "execute_result"
    }
   ],
   "source": [
    "p_dot_delta_p_dot_theta = diff(dot_delta, dot_theta)\n",
    "simplify(p_dot_delta_p_dot_theta)"
   ]
  },
  {
   "cell_type": "code",
   "execution_count": null,
   "metadata": {},
   "outputs": [],
   "source": []
  }
 ],
 "metadata": {
  "interpreter": {
   "hash": "e4c70847b7f11edec32e733f3cab9e5d6455a583869c2781fbb9dd2ae82e1ff8"
  },
  "kernelspec": {
   "display_name": "Python 3.7.11 ('py37')",
   "language": "python",
   "name": "python3"
  },
  "language_info": {
   "codemirror_mode": {
    "name": "ipython",
    "version": 3
   },
   "file_extension": ".py",
   "mimetype": "text/x-python",
   "name": "python",
   "nbconvert_exporter": "python",
   "pygments_lexer": "ipython3",
   "version": "3.7.11"
  },
  "orig_nbformat": 4
 },
 "nbformat": 4,
 "nbformat_minor": 2
}
