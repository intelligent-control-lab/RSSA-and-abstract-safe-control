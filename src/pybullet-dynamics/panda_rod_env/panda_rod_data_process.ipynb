{
 "cells": [
  {
   "cell_type": "code",
   "execution_count": null,
   "metadata": {},
   "outputs": [],
   "source": [
    "import pickle\n",
    "import numpy as np\n",
    "import matplotlib.pyplot as plt\n",
    "import time\n",
    "import os\n",
    "\n",
    "from panda_rod_utils import *"
   ]
  },
  {
   "cell_type": "code",
   "execution_count": null,
   "metadata": {},
   "outputs": [],
   "source": [
    "plt.rcParams['figure.dpi'] = 500"
   ]
  },
  {
   "cell_type": "code",
   "execution_count": null,
   "metadata": {},
   "outputs": [],
   "source": [
    "if_distance = False\n",
    "if_sigma = False\n",
    "if_video = True\n",
    "if_make_new_dir = False\n",
    "if_component = True"
   ]
  },
  {
   "cell_type": "code",
   "execution_count": null,
   "metadata": {},
   "outputs": [],
   "source": [
    "time_now = time.strftime(\"%Y-%m-%d___%H-%M-%S\", time.localtime())\n",
    "print(time_now)\n",
    "\n",
    "movie_path = '/home/zhux/robust-safe-set/src/pybullet-dynamics/panda_rod_env/movies/'\n",
    "if if_make_new_dir:\n",
    "    true_save_path = movie_path + time_now + '/'\n",
    "    os.mkdir(true_save_path)\n",
    "else:    \n",
    "    true_save_path = movie_path + list(os.walk(movie_path))[0][1][-1] + '/'"
   ]
  },
  {
   "cell_type": "code",
   "execution_count": null,
   "metadata": {},
   "outputs": [],
   "source": [
    "print(true_save_path)"
   ]
  },
  {
   "cell_type": "code",
   "execution_count": null,
   "metadata": {},
   "outputs": [],
   "source": [
    "with open('/home/zhux/robust-safe-set/src/pybullet-dynamics/panda_rod_env/data/monitor.pkl', 'rb') as file:\n",
    "    data = pickle.load(file)"
   ]
  },
  {
   "cell_type": "code",
   "execution_count": null,
   "metadata": {},
   "outputs": [],
   "source": [
    "data.keys()"
   ]
  },
  {
   "cell_type": "code",
   "execution_count": null,
   "metadata": {},
   "outputs": [],
   "source": [
    "# ssa_args\n",
    "if 'ssa_args' in data.keys():\n",
    "    for dic in data['ssa_args']:\n",
    "        for key, value in dic.items():\n",
    "            tmp = type(value)\n",
    "            if tmp is int or tmp is float or tmp is bool:\n",
    "                print(f'{key}: {value}')\n",
    "            elif tmp is list:\n",
    "                if len(value) < 10:\n",
    "                    print(f'{key}: {value}')"
   ]
  },
  {
   "cell_type": "code",
   "execution_count": null,
   "metadata": {},
   "outputs": [],
   "source": [
    "# env_args\n",
    "if 'env_args' in data.keys():\n",
    "    for dic in data['env_args']:\n",
    "        for key, value in dic.items():\n",
    "            tmp = type(value)\n",
    "            if tmp is int or tmp is float or tmp is bool:\n",
    "                print(f'{key}: {value}')\n",
    "            elif tmp is list:\n",
    "                if len(value) < 10:\n",
    "                    print(f'{key}: {value}')"
   ]
  },
  {
   "cell_type": "code",
   "execution_count": null,
   "metadata": {},
   "outputs": [],
   "source": [
    "# f and f_nn\n",
    "if if_distance and 'f' in data.keys() and 'f_nn' in data.keys():\n",
    "    f = to_np(data['f'])\n",
    "    f_nn = to_np(data['f_nn'])\n",
    "    dis = get_L2_norm(f, f_nn)\n",
    "    plt.plot(np.arange(len(dis)), dis)"
   ]
  },
  {
   "cell_type": "code",
   "execution_count": null,
   "metadata": {},
   "outputs": [],
   "source": [
    "if if_distance and 'f' in data.keys() and 'f_nn' in data.keys() and 'f_res' in data.keys():\n",
    "    f = to_np(data['f'])\n",
    "    f_nn = to_np(data['f_nn'])\n",
    "    f_res = to_np(data['f_res'])\n",
    "    f_nn_new = f_nn + f_res\n",
    "    dis = get_L2_norm(f, f_nn_new)\n",
    "    plt.plot(np.arange(len(dis)), dis)"
   ]
  },
  {
   "cell_type": "code",
   "execution_count": null,
   "metadata": {},
   "outputs": [],
   "source": [
    "# g and g_nn\n",
    "if if_distance and 'g' in data.keys() and 'g_nn' in data.keys():\n",
    "    g = to_np(data['g'])\n",
    "    g_nn = to_np(data['g_nn']).reshape(g.shape)\n",
    "    dis = get_L2_norm(g, g_nn)\n",
    "    plt.plot(np.arange(len(dis)), dis)"
   ]
  },
  {
   "cell_type": "code",
   "execution_count": null,
   "metadata": {},
   "outputs": [],
   "source": [
    "if if_distance and 'g' in data.keys() and 'g_nn' in data.keys() and 'g_res' in data.keys():\n",
    "    g = to_np(data['g'])\n",
    "    g_nn = to_np(data['g_nn']).reshape(g.shape)\n",
    "    g_res = to_np(data['g_res'])\n",
    "    g_nn_new = g_nn + g_res\n",
    "    dis = get_L2_norm(g, g_nn_new)\n",
    "    plt.plot(np.arange(len(dis)), dis)"
   ]
  },
  {
   "cell_type": "code",
   "execution_count": null,
   "metadata": {},
   "outputs": [],
   "source": [
    "# dot_Xr and dot_Xr_nn\n",
    "if if_distance and 'dot_Xr' in data.keys():\n",
    "    dot_Xr = to_np(data['dot_Xr'])\n",
    "    u = to_np(data['u'])\n",
    "    dis = []\n",
    "    for i in range(dot_Xr.shape[0]):\n",
    "        dot_Xr_nn = f_nn[i].reshape(-1, 1) + g_nn[i].reshape(18, 7) @ u[i].reshape(-1, 1)\n",
    "        tmp = np.linalg.norm(dot_Xr[i] - dot_Xr_nn.reshape(-1,))\n",
    "        dis.append(tmp)\n",
    "    plt.plot(np.arange(len(dis)), dis)"
   ]
  },
  {
   "cell_type": "code",
   "execution_count": null,
   "metadata": {},
   "outputs": [],
   "source": [
    "# largest singular value in f_nn_sigma\n",
    "if if_sigma and 'f_nn_sigma' in data.keys():\n",
    "    f_nn_sigma = to_np(data['f_nn_sigma'])\n",
    "    largest_singular_value = get_largest_singular_value(f_nn_sigma)\n",
    "    plt.plot(np.arange(len(largest_singular_value)), largest_singular_value)"
   ]
  },
  {
   "cell_type": "code",
   "execution_count": null,
   "metadata": {},
   "outputs": [],
   "source": [
    "# largest singular value in g_nn_sigma\n",
    "if if_sigma and 'g_nn_sigma' in data.keys():\n",
    "    g_nn_sigma = to_np(data['g_nn_sigma'])\n",
    "    largest_singular_value = get_largest_singular_value(g_nn_sigma)\n",
    "    plt.plot(np.arange(len(largest_singular_value)), largest_singular_value)"
   ]
  },
  {
   "cell_type": "code",
   "execution_count": null,
   "metadata": {},
   "outputs": [],
   "source": [
    "# LfP and LfP_nn\n",
    "if if_distance and 'LfP' in data.keys() and 'LfP_nn' in data.keys():\n",
    "    LfP = to_np(data['LfP'])\n",
    "    LfP_nn = to_np(data['LfP_nn'])\n",
    "    dis = get_L2_norm(LfP, LfP_nn)\n",
    "    plt.plot(np.arange(len(dis)), dis)"
   ]
  },
  {
   "cell_type": "code",
   "execution_count": null,
   "metadata": {},
   "outputs": [],
   "source": [
    "# LgP and LgP_nn\n",
    "if if_distance and 'LgP' in data.keys() and 'LgP_nn' in data.keys():\n",
    "    LgP = to_np(data['LgP'])\n",
    "    LgP_nn = to_np(data['LgP_nn'])\n",
    "    \n",
    "    dis = get_L2_norm(LgP, LgP_nn)\n",
    "    plt.plot(np.arange(len(dis)), dis)"
   ]
  },
  {
   "cell_type": "code",
   "execution_count": null,
   "metadata": {},
   "outputs": [],
   "source": [
    "# largest singular value in LfP_nn_sigma\n",
    "if if_sigma and 'LfP_nn_sigma' in data.keys():\n",
    "    LfP_nn_sigma = data['LfP_nn_sigma']\n",
    "    LfP_nn_sigma = to_np(LfP_nn_sigma)\n",
    "    largest_singular_value = get_largest_singular_value(LfP_nn_sigma)\n",
    "    plt.plot(np.arange(len(largest_singular_value)), largest_singular_value)"
   ]
  },
  {
   "cell_type": "code",
   "execution_count": null,
   "metadata": {},
   "outputs": [],
   "source": [
    "# largest singular value in LgP_nn_sigma\n",
    "if if_sigma and 'LgP_nn_sigma' in data.keys():\n",
    "    LgP_nn_sigma = data['LgP_nn_sigma']\n",
    "    LgP_nn_sigma = to_np(LgP_nn_sigma)\n",
    "    largest_singular_value = get_largest_singular_value(LgP_nn_sigma)\n",
    "    plt.plot(np.arange(len(largest_singular_value)), largest_singular_value)"
   ]
  },
  {
   "cell_type": "code",
   "execution_count": null,
   "metadata": {},
   "outputs": [],
   "source": [
    "# record f and (f - f_nn) in a time interval\n",
    "if if_video and 'f' in data.keys() and 'f_nn' in data.keys():\n",
    "    f = to_np(data['f'])\n",
    "    f_nn = to_np(data['f_nn'])\n",
    "    images = get_images_of_array({'f': f, 'f_res': f - f_nn})\n",
    "    video_record(true_save_path + 'f_and_f_res.mp4', images)"
   ]
  },
  {
   "cell_type": "code",
   "execution_count": null,
   "metadata": {},
   "outputs": [],
   "source": [
    "# record g and (g - g_nn) in a time interval\n",
    "if if_video and 'g' in data.keys() and 'g_nn' in data.keys():\n",
    "    g = to_np(data['g'])\n",
    "    g = g.reshape(g.shape[0], -1)\n",
    "    g_nn = to_np(data['g_nn'])\n",
    "    g_nn = g_nn.reshape(g_nn.shape[0], -1)\n",
    "    images = get_images_of_array({'g': g, 'g_res': g - g_nn})\n",
    "    video_record(true_save_path + 'g_and_g_res.mp4', images)"
   ]
  },
  {
   "cell_type": "code",
   "execution_count": null,
   "metadata": {},
   "outputs": [],
   "source": [
    "# record dot_Xr and (dot_Xr - dot_Xr_nn) in a time interval\n",
    "if if_video and 'dot_Xr' in data.keys() and 'f_nn' in data.keys() and 'g_nn' in data.keys():\n",
    "     dot_Xr = to_np(data['dot_Xr'])\n",
    "     f_nn = to_np(data['f_nn'])\n",
    "     g_nn = to_np(data['g_nn']).reshape(f_nn.shape[0], f_nn.shape[1], -1)\n",
    "     u = to_np(data['u']).reshape(f_nn.shape[0], -1, 1)\n",
    "     dot_Xr_nn = f_nn + to_np(g_nn @ u)\n",
    "     images = get_images_of_array({'dot_Xr': dot_Xr, 'dot_Xr_res': dot_Xr - dot_Xr_nn})\n",
    "     video_record(true_save_path + 'dot_Xr_and_dot_Xr_res.mp4', images)"
   ]
  },
  {
   "cell_type": "code",
   "execution_count": null,
   "metadata": {},
   "outputs": [],
   "source": [
    "# draw components of f and (f - f_nn)\n",
    "if if_component and  'f' in data.keys() and 'f_nn' in data.keys():\n",
    "    f = to_np(data['f'])\n",
    "    f_nn = to_np(data['f_nn'])\n",
    "    plot_images_of_components({'f': f, 'f_res': f - f_nn}, ids=np.arange(f.shape[1]), plt_array=[3, 6], figsize=(30, 10))"
   ]
  },
  {
   "cell_type": "code",
   "execution_count": null,
   "metadata": {},
   "outputs": [],
   "source": [
    "# draw components of dot_Xr and (dot_Xr - dot_Xr_nn)\n",
    "if if_component and 'dot_Xr' in data.keys() and 'f_nn' in data.keys() and 'g_nn' in data.keys():\n",
    "    dot_Xr = to_np(data['dot_Xr'])\n",
    "    f_nn = to_np(data['f_nn'])\n",
    "    g_nn = to_np(data['g_nn']).reshape(f_nn.shape[0], f_nn.shape[1], -1)\n",
    "    u = to_np(data['u']).reshape(f_nn.shape[0], -1, 1)\n",
    "    dot_Xr_nn = f_nn + to_np(g_nn @ u)\n",
    "    plot_images_of_components({'dot_Xr': dot_Xr, 'dot_Xr_res': dot_Xr - dot_Xr_nn}, ids=np.arange(dot_Xr.shape[1]), plt_array=[3, 6], figsize=(30, 10))"
   ]
  },
  {
   "cell_type": "code",
   "execution_count": null,
   "metadata": {},
   "outputs": [],
   "source": [
    "# record dot_Xr and (dot_Xr - dot_Xr_nn) in a time interval\n",
    "# if f is true\n",
    "if if_video and 'dot_Xr' in data.keys() and 'f_nn' in data.keys() and 'g_nn' in data.keys():\n",
    "     dot_Xr = to_np(data['dot_Xr'])\n",
    "     f_nn = to_np(data['f'])\n",
    "     g_nn = to_np(data['g_nn']).reshape(f_nn.shape[0], f_nn.shape[1], -1)\n",
    "     u = to_np(data['u']).reshape(f_nn.shape[0], -1, 1)\n",
    "     dot_Xr_nn = f_nn + to_np(g_nn @ u)\n",
    "     images = get_images_of_array({'dot_Xr': dot_Xr, 'dot_Xr_res': dot_Xr - dot_Xr_nn})\n",
    "     video_record(true_save_path + 'dot_Xr_and_dot_Xr_res_g_true.mp4', images)"
   ]
  }
 ],
 "metadata": {
  "interpreter": {
   "hash": "e4c70847b7f11edec32e733f3cab9e5d6455a583869c2781fbb9dd2ae82e1ff8"
  },
  "kernelspec": {
   "display_name": "Python 3.7.11 ('py37')",
   "language": "python",
   "name": "python3"
  },
  "language_info": {
   "codemirror_mode": {
    "name": "ipython",
    "version": 3
   },
   "file_extension": ".py",
   "mimetype": "text/x-python",
   "name": "python",
   "nbconvert_exporter": "python",
   "pygments_lexer": "ipython3",
   "version": "3.7.11"
  },
  "orig_nbformat": 4
 },
 "nbformat": 4,
 "nbformat_minor": 2
}
